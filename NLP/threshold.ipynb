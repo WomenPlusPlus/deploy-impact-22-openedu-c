{
 "cells": [
  {
   "cell_type": "code",
   "execution_count": 1,
   "id": "2b381836",
   "metadata": {},
   "outputs": [],
   "source": [
    "from sentence_transformers import CrossEncoder\n",
    "from sentence_transformers import SentenceTransformer\n",
    "from sklearn.metrics.pairwise import cosine_similarity\n",
    "from sklearn.feature_extraction.text import TfidfVectorizer\n",
    "import numpy as np\n",
    "import pandas as pd\n",
    "import sqlalchemy as sa\n",
    "\n",
    "\n",
    "# from text_processing import text_processing\n",
    "\n",
    "def search_key_bi_encoder(df_text, search_key):\n",
    "    # https://towardsdatascience.com/semantic-textual-similarity-83b3ca4a840e\n",
    "\n",
    "    # Load the pre-trained model\n",
    "    model = SentenceTransformer('stsb-mpnet-base-v2')\n",
    "\n",
    "    # Generate Embeddings\n",
    "\n",
    "    sentence_emb1 = model.encode(df_text, show_progress_bar=True)\n",
    "    #print('sentence_emb1', sentence_emb1)\n",
    "\n",
    "    #print(sentence_emb1.shape)\n",
    "\n",
    "    sentence_emb2 = model.encode(search_key, show_progress_bar=True)\n",
    "    sentence_emb2 = sentence_emb2.reshape(1, -1)\n",
    "    #print('sentence_emb2', sentence_emb2)\n",
    "    #print(sentence_emb2.shape)\n",
    "\n",
    "    # Cosine Similarity\n",
    "    similarity_score = cosine_similarity(sentence_emb1, sentence_emb2)\n",
    "   #data_df = pd.DataFrame(similarity_score, columns=search_key)\n",
    "    \n",
    "    return similarity_score"
   ]
  },
  {
   "cell_type": "code",
   "execution_count": 2,
   "id": "debdaee3",
   "metadata": {},
   "outputs": [],
   "source": [
    "# I connect to the NEW DB\n",
    "\n",
    "engine = sa.create_engine(\n",
    "            'postgresql://django@openeduc-db:deploy-impact-2022@openeduc-db.postgres.database.azure.com:5432/openeduc-db', connect_args={\"sslmode\": \"require\"})\n",
    "df = pd.read_sql_query('SELECT title, description FROM edu_data_edumaterial', engine)\n",
    "df_text = df.apply(' '.join, axis=1)\n",
    "df_id_sito = pd.read_sql_query('SELECT id, title FROM edu_data_edumaterial', con=engine)"
   ]
  },
  {
   "cell_type": "code",
   "execution_count": 7,
   "id": "18c4ebd1",
   "metadata": {},
   "outputs": [
    {
     "data": {
      "application/vnd.jupyter.widget-view+json": {
       "model_id": "d04582e5f298430d818a9ac5ec1afccc",
       "version_major": 2,
       "version_minor": 0
      },
      "text/plain": [
       "Batches:   0%|          | 0/1 [00:00<?, ?it/s]"
      ]
     },
     "metadata": {},
     "output_type": "display_data"
    },
    {
     "data": {
      "application/vnd.jupyter.widget-view+json": {
       "model_id": "cd4e335a74274945a436d7dd14be4b8f",
       "version_major": 2,
       "version_minor": 0
      },
      "text/plain": [
       "Batches:   0%|          | 0/1 [00:00<?, ?it/s]"
      ]
     },
     "metadata": {},
     "output_type": "display_data"
    },
    {
     "data": {
      "application/vnd.jupyter.widget-view+json": {
       "model_id": "b517110f306d4a43b600d9d4133da4c9",
       "version_major": 2,
       "version_minor": 0
      },
      "text/plain": [
       "Batches:   0%|          | 0/1 [00:00<?, ?it/s]"
      ]
     },
     "metadata": {},
     "output_type": "display_data"
    },
    {
     "data": {
      "application/vnd.jupyter.widget-view+json": {
       "model_id": "862ba86a02a54d36848ebf4dc2efafda",
       "version_major": 2,
       "version_minor": 0
      },
      "text/plain": [
       "Batches:   0%|          | 0/1 [00:00<?, ?it/s]"
      ]
     },
     "metadata": {},
     "output_type": "display_data"
    },
    {
     "data": {
      "application/vnd.jupyter.widget-view+json": {
       "model_id": "f46c34c55c4a404fbc45fa4694a601bc",
       "version_major": 2,
       "version_minor": 0
      },
      "text/plain": [
       "Batches:   0%|          | 0/1 [00:00<?, ?it/s]"
      ]
     },
     "metadata": {},
     "output_type": "display_data"
    },
    {
     "data": {
      "application/vnd.jupyter.widget-view+json": {
       "model_id": "0fcf6b633e8b49bf8a333c03bb86b454",
       "version_major": 2,
       "version_minor": 0
      },
      "text/plain": [
       "Batches:   0%|          | 0/1 [00:00<?, ?it/s]"
      ]
     },
     "metadata": {},
     "output_type": "display_data"
    },
    {
     "data": {
      "application/vnd.jupyter.widget-view+json": {
       "model_id": "2226ba2f065a4ebf8d7f3d4ac702589c",
       "version_major": 2,
       "version_minor": 0
      },
      "text/plain": [
       "Batches:   0%|          | 0/1 [00:00<?, ?it/s]"
      ]
     },
     "metadata": {},
     "output_type": "display_data"
    },
    {
     "data": {
      "application/vnd.jupyter.widget-view+json": {
       "model_id": "7d6da89c742e47d58325db55c63730bc",
       "version_major": 2,
       "version_minor": 0
      },
      "text/plain": [
       "Batches:   0%|          | 0/1 [00:00<?, ?it/s]"
      ]
     },
     "metadata": {},
     "output_type": "display_data"
    },
    {
     "data": {
      "application/vnd.jupyter.widget-view+json": {
       "model_id": "b0a15121d7b04b25b33f570ea6aec80b",
       "version_major": 2,
       "version_minor": 0
      },
      "text/plain": [
       "Batches:   0%|          | 0/1 [00:00<?, ?it/s]"
      ]
     },
     "metadata": {},
     "output_type": "display_data"
    },
    {
     "data": {
      "application/vnd.jupyter.widget-view+json": {
       "model_id": "2abd649ec05b4878b6bba279c86b5cb7",
       "version_major": 2,
       "version_minor": 0
      },
      "text/plain": [
       "Batches:   0%|          | 0/1 [00:00<?, ?it/s]"
      ]
     },
     "metadata": {},
     "output_type": "display_data"
    },
    {
     "data": {
      "application/vnd.jupyter.widget-view+json": {
       "model_id": "c68a09baebc14449939574799b82ba05",
       "version_major": 2,
       "version_minor": 0
      },
      "text/plain": [
       "Batches:   0%|          | 0/1 [00:00<?, ?it/s]"
      ]
     },
     "metadata": {},
     "output_type": "display_data"
    },
    {
     "data": {
      "application/vnd.jupyter.widget-view+json": {
       "model_id": "6baa95b5935042d081a264509d925aca",
       "version_major": 2,
       "version_minor": 0
      },
      "text/plain": [
       "Batches:   0%|          | 0/1 [00:00<?, ?it/s]"
      ]
     },
     "metadata": {},
     "output_type": "display_data"
    },
    {
     "data": {
      "application/vnd.jupyter.widget-view+json": {
       "model_id": "a6694783f9724466b80eb8d0534ca894",
       "version_major": 2,
       "version_minor": 0
      },
      "text/plain": [
       "Batches:   0%|          | 0/1 [00:00<?, ?it/s]"
      ]
     },
     "metadata": {},
     "output_type": "display_data"
    },
    {
     "data": {
      "application/vnd.jupyter.widget-view+json": {
       "model_id": "d1ab58a4e7fa4e46bac127f05b0d91d2",
       "version_major": 2,
       "version_minor": 0
      },
      "text/plain": [
       "Batches:   0%|          | 0/1 [00:00<?, ?it/s]"
      ]
     },
     "metadata": {},
     "output_type": "display_data"
    },
    {
     "data": {
      "application/vnd.jupyter.widget-view+json": {
       "model_id": "cac51f8354a34863ad06eee5c1f6b848",
       "version_major": 2,
       "version_minor": 0
      },
      "text/plain": [
       "Batches:   0%|          | 0/1 [00:00<?, ?it/s]"
      ]
     },
     "metadata": {},
     "output_type": "display_data"
    },
    {
     "data": {
      "application/vnd.jupyter.widget-view+json": {
       "model_id": "cfc31c5ed21946869f4cf56e18b07cf8",
       "version_major": 2,
       "version_minor": 0
      },
      "text/plain": [
       "Batches:   0%|          | 0/1 [00:00<?, ?it/s]"
      ]
     },
     "metadata": {},
     "output_type": "display_data"
    },
    {
     "data": {
      "application/vnd.jupyter.widget-view+json": {
       "model_id": "c08f29b2c8a24580a951e9a38b260c90",
       "version_major": 2,
       "version_minor": 0
      },
      "text/plain": [
       "Batches:   0%|          | 0/1 [00:00<?, ?it/s]"
      ]
     },
     "metadata": {},
     "output_type": "display_data"
    },
    {
     "data": {
      "application/vnd.jupyter.widget-view+json": {
       "model_id": "8f9fb308b05c4d5b96a65fd922527d4a",
       "version_major": 2,
       "version_minor": 0
      },
      "text/plain": [
       "Batches:   0%|          | 0/1 [00:00<?, ?it/s]"
      ]
     },
     "metadata": {},
     "output_type": "display_data"
    },
    {
     "name": "stdout",
     "output_type": "stream",
     "text": [
      "           0  Science Competition  language  encyclopedia  database    travel  \\\n",
      "0   0.210353             0.337843  0.060492      0.182588  0.049811  0.109316   \n",
      "1   0.179963             0.159352  0.167569      0.291955  0.110766  0.152519   \n",
      "2   0.295591             0.134172  0.139272      0.316056  0.119874  0.122685   \n",
      "3   0.122953             0.088262  0.180310      0.332602  0.175048  0.199248   \n",
      "4   0.193859             0.058056  0.120586      0.357716  0.238213  0.121262   \n",
      "5   0.205251             0.046402  0.204282      0.336803  0.255125  0.280623   \n",
      "6   0.234642             0.111987  0.246555      0.360821  0.242201  0.214859   \n",
      "7   0.219281             0.568518  0.154598      0.238892  0.039427  0.124523   \n",
      "8   0.183475             0.039105  0.096333      0.352364  0.236436  0.173054   \n",
      "9   0.138642             0.121260  0.154485      0.254324  0.311311  0.024190   \n",
      "10  0.168737             0.098906  0.230571      0.333619  0.161648  0.123976   \n",
      "11  0.124447             0.146469  0.080843      0.211739  0.057650  0.135859   \n",
      "12  0.182888             0.129802  0.176057      0.422023  0.223832  0.129393   \n",
      "13  0.192288             0.070453  0.193870      0.290268  0.203888  0.132615   \n",
      "14  0.141083             0.161537  0.133231      0.295864  0.082225  0.127913   \n",
      "15  0.173746             0.072556  0.134946      0.236949  0.221347  0.137670   \n",
      "16  0.204825             0.025646  0.154362      0.416353  0.359745  0.231793   \n",
      "17  0.265392             0.155661  0.118725      0.255332  0.125026  0.139526   \n",
      "18  0.192122             0.100229  0.334546      0.329683  0.205869  0.165527   \n",
      "19  0.114765             0.205068  0.099867      0.082586  0.127727  0.094128   \n",
      "20  0.134929             0.051084  0.326185      0.202966  0.198153  0.151791   \n",
      "21  0.286098             0.222281  0.257955      0.368295  0.122799  0.155693   \n",
      "22  0.112377             0.119536  0.206412      0.209632  0.075608  0.070534   \n",
      "23  0.219984             0.147025  0.272555      0.273976  0.181767  0.122889   \n",
      "24  0.274289             0.206587  0.198103      0.407019  0.132237  0.093742   \n",
      "25  0.156017             0.121370  0.142241      0.220778  0.007905  0.045657   \n",
      "26  0.241453             0.168864  0.147158      0.289177  0.126463 -0.001899   \n",
      "27  0.211990             0.130006  0.174126      0.322651  0.131588  0.149498   \n",
      "28  0.186773             0.140083  0.071354      0.249003  0.009771  0.027403   \n",
      "29  0.275228             0.064301  0.170836      0.221188  0.148134  0.107874   \n",
      "30  0.318606             0.205268  0.181931      0.305450  0.141058  0.153427   \n",
      "31  0.220590             0.119782  0.165704      0.335118  0.133391  0.158286   \n",
      "\n",
      "      school  medicine  university  research  \n",
      "0   0.137435  0.078706    0.179667  0.210353  \n",
      "1   0.101293  0.029253    0.127813  0.179963  \n",
      "2   0.224175  0.033031    0.207098  0.295591  \n",
      "3   0.117918  0.051173    0.127698  0.122953  \n",
      "4   0.089300  0.059411    0.099732  0.193859  \n",
      "5   0.120848  0.006852    0.091623  0.205251  \n",
      "6   0.144036  0.051533    0.125933  0.234642  \n",
      "7   0.140539  0.110252    0.163031  0.219281  \n",
      "8   0.048168  0.029583    0.071156  0.183475  \n",
      "9   0.068964  0.082747    0.094962  0.138642  \n",
      "10  0.221286  0.026261    0.160092  0.168737  \n",
      "11  0.052051 -0.033423    0.051497  0.124447  \n",
      "12  0.101571  0.013076    0.058004  0.182888  \n",
      "13  0.088645  0.085059    0.097852  0.192288  \n",
      "14  0.182275 -0.034053    0.071220  0.141083  \n",
      "15  0.047078  0.078058    0.074159  0.173746  \n",
      "16  0.160580  0.015326    0.160413  0.204825  \n",
      "17  0.291554  0.002243    0.250743  0.265392  \n",
      "18  0.081845  0.014441    0.052724  0.192122  \n",
      "19  0.008208  0.001750    0.103130  0.114765  \n",
      "20  0.128644 -0.013966    0.078152  0.134929  \n",
      "21  0.109934  0.124734    0.175717  0.286098  \n",
      "22  0.172132  0.009652    0.101281  0.112377  \n",
      "23  0.172401  0.051153    0.123730  0.219984  \n",
      "24  0.291346  0.091422    0.328070  0.274289  \n",
      "25  0.247088  0.027541    0.231679  0.156017  \n",
      "26  0.220992  0.059655    0.205310  0.241453  \n",
      "27  0.280518  0.032608    0.221451  0.211990  \n",
      "28  0.208630  0.305848    0.116015  0.186773  \n",
      "29  0.056478  0.063553    0.134930  0.275228  \n",
      "30  0.239055  0.089110    0.326812  0.318606  \n",
      "31  0.266289  0.034155    0.149695  0.220590  \n"
     ]
    }
   ],
   "source": [
    "pool_sk_yes = ['Science Competition', 'language', 'encyclopedia', 'database', 'travel', 'school', 'medicine', 'university', 'research']\n",
    "\n",
    "#pool_sk_no = ['jungle', 'kitchen', 'rain', 'elephant', 'grass', 'cars', 'sun', 'children', 'chair']\n",
    "\n",
    "for i in pool_sk_yes:\n",
    "    df[i]= pd.DataFrame(search_key_bi_encoder(df_text, i))\n",
    "print(df)\n",
    "\n",
    "\n",
    "   "
   ]
  },
  {
   "cell_type": "code",
   "execution_count": 8,
   "id": "1ad716a5",
   "metadata": {},
   "outputs": [
    {
     "data": {
      "application/vnd.jupyter.widget-view+json": {
       "model_id": "4ed6f3343a3347dbaebd30d36832d70c",
       "version_major": 2,
       "version_minor": 0
      },
      "text/plain": [
       "Batches:   0%|          | 0/1 [00:00<?, ?it/s]"
      ]
     },
     "metadata": {},
     "output_type": "display_data"
    },
    {
     "data": {
      "application/vnd.jupyter.widget-view+json": {
       "model_id": "56264cf3fcfa452f893488db13553625",
       "version_major": 2,
       "version_minor": 0
      },
      "text/plain": [
       "Batches:   0%|          | 0/1 [00:00<?, ?it/s]"
      ]
     },
     "metadata": {},
     "output_type": "display_data"
    },
    {
     "data": {
      "application/vnd.jupyter.widget-view+json": {
       "model_id": "86c98544d6664a70a2e3357428a64e9a",
       "version_major": 2,
       "version_minor": 0
      },
      "text/plain": [
       "Batches:   0%|          | 0/1 [00:00<?, ?it/s]"
      ]
     },
     "metadata": {},
     "output_type": "display_data"
    },
    {
     "data": {
      "application/vnd.jupyter.widget-view+json": {
       "model_id": "78f9b885394240789ad9f8fd8429b10f",
       "version_major": 2,
       "version_minor": 0
      },
      "text/plain": [
       "Batches:   0%|          | 0/1 [00:00<?, ?it/s]"
      ]
     },
     "metadata": {},
     "output_type": "display_data"
    },
    {
     "data": {
      "application/vnd.jupyter.widget-view+json": {
       "model_id": "64550cb1901b478da2e77c26f7ac075a",
       "version_major": 2,
       "version_minor": 0
      },
      "text/plain": [
       "Batches:   0%|          | 0/1 [00:00<?, ?it/s]"
      ]
     },
     "metadata": {},
     "output_type": "display_data"
    },
    {
     "data": {
      "application/vnd.jupyter.widget-view+json": {
       "model_id": "b4c099a2564e43ad905d39161fdd1786",
       "version_major": 2,
       "version_minor": 0
      },
      "text/plain": [
       "Batches:   0%|          | 0/1 [00:00<?, ?it/s]"
      ]
     },
     "metadata": {},
     "output_type": "display_data"
    },
    {
     "data": {
      "application/vnd.jupyter.widget-view+json": {
       "model_id": "bedcd20d22cb4b89884823eff36bf877",
       "version_major": 2,
       "version_minor": 0
      },
      "text/plain": [
       "Batches:   0%|          | 0/1 [00:00<?, ?it/s]"
      ]
     },
     "metadata": {},
     "output_type": "display_data"
    },
    {
     "data": {
      "application/vnd.jupyter.widget-view+json": {
       "model_id": "0f245125f7ba4ae3b76cf1111a831f6c",
       "version_major": 2,
       "version_minor": 0
      },
      "text/plain": [
       "Batches:   0%|          | 0/1 [00:00<?, ?it/s]"
      ]
     },
     "metadata": {},
     "output_type": "display_data"
    },
    {
     "data": {
      "application/vnd.jupyter.widget-view+json": {
       "model_id": "e8103fd1374e4230b68dd5cdf31433bd",
       "version_major": 2,
       "version_minor": 0
      },
      "text/plain": [
       "Batches:   0%|          | 0/1 [00:00<?, ?it/s]"
      ]
     },
     "metadata": {},
     "output_type": "display_data"
    },
    {
     "data": {
      "application/vnd.jupyter.widget-view+json": {
       "model_id": "69fe0de8e77f4a799be6f45ade685b08",
       "version_major": 2,
       "version_minor": 0
      },
      "text/plain": [
       "Batches:   0%|          | 0/1 [00:00<?, ?it/s]"
      ]
     },
     "metadata": {},
     "output_type": "display_data"
    },
    {
     "data": {
      "application/vnd.jupyter.widget-view+json": {
       "model_id": "301aa91b0465460d92d82f7c897f5285",
       "version_major": 2,
       "version_minor": 0
      },
      "text/plain": [
       "Batches:   0%|          | 0/1 [00:00<?, ?it/s]"
      ]
     },
     "metadata": {},
     "output_type": "display_data"
    },
    {
     "data": {
      "application/vnd.jupyter.widget-view+json": {
       "model_id": "b0bf239870944d4f828fdbc4274fc0cc",
       "version_major": 2,
       "version_minor": 0
      },
      "text/plain": [
       "Batches:   0%|          | 0/1 [00:00<?, ?it/s]"
      ]
     },
     "metadata": {},
     "output_type": "display_data"
    },
    {
     "data": {
      "application/vnd.jupyter.widget-view+json": {
       "model_id": "1081305126c24126af4d30f920917745",
       "version_major": 2,
       "version_minor": 0
      },
      "text/plain": [
       "Batches:   0%|          | 0/1 [00:00<?, ?it/s]"
      ]
     },
     "metadata": {},
     "output_type": "display_data"
    },
    {
     "data": {
      "application/vnd.jupyter.widget-view+json": {
       "model_id": "96dc9cfefdbe44bfbb2ac79c9c18609e",
       "version_major": 2,
       "version_minor": 0
      },
      "text/plain": [
       "Batches:   0%|          | 0/1 [00:00<?, ?it/s]"
      ]
     },
     "metadata": {},
     "output_type": "display_data"
    },
    {
     "data": {
      "application/vnd.jupyter.widget-view+json": {
       "model_id": "71c7fdacdab74f198ee9f2e4482b4c3e",
       "version_major": 2,
       "version_minor": 0
      },
      "text/plain": [
       "Batches:   0%|          | 0/1 [00:00<?, ?it/s]"
      ]
     },
     "metadata": {},
     "output_type": "display_data"
    },
    {
     "data": {
      "application/vnd.jupyter.widget-view+json": {
       "model_id": "34dbe485f21043239c43d674eb0ee60b",
       "version_major": 2,
       "version_minor": 0
      },
      "text/plain": [
       "Batches:   0%|          | 0/1 [00:00<?, ?it/s]"
      ]
     },
     "metadata": {},
     "output_type": "display_data"
    },
    {
     "data": {
      "application/vnd.jupyter.widget-view+json": {
       "model_id": "3fffa16348d74c5fa57e2e953574c8d0",
       "version_major": 2,
       "version_minor": 0
      },
      "text/plain": [
       "Batches:   0%|          | 0/1 [00:00<?, ?it/s]"
      ]
     },
     "metadata": {},
     "output_type": "display_data"
    },
    {
     "data": {
      "application/vnd.jupyter.widget-view+json": {
       "model_id": "2de23070a3374f4ab6f54e7a1ebd4128",
       "version_major": 2,
       "version_minor": 0
      },
      "text/plain": [
       "Batches:   0%|          | 0/1 [00:00<?, ?it/s]"
      ]
     },
     "metadata": {},
     "output_type": "display_data"
    },
    {
     "name": "stdout",
     "output_type": "stream",
     "text": [
      "           0  Science Competition  language  encyclopedia  database    travel  \\\n",
      "0   0.210353             0.337843  0.060492      0.182588  0.049811  0.109316   \n",
      "1   0.179963             0.159352  0.167569      0.291955  0.110766  0.152519   \n",
      "2   0.295591             0.134172  0.139272      0.316056  0.119874  0.122685   \n",
      "3   0.122953             0.088262  0.180310      0.332602  0.175048  0.199248   \n",
      "4   0.193859             0.058056  0.120586      0.357716  0.238213  0.121262   \n",
      "5   0.205251             0.046402  0.204282      0.336803  0.255125  0.280623   \n",
      "6   0.234642             0.111987  0.246555      0.360821  0.242201  0.214859   \n",
      "7   0.219281             0.568518  0.154598      0.238892  0.039427  0.124523   \n",
      "8   0.183475             0.039105  0.096333      0.352364  0.236436  0.173054   \n",
      "9   0.138642             0.121260  0.154485      0.254324  0.311311  0.024190   \n",
      "10  0.168737             0.098906  0.230571      0.333619  0.161648  0.123976   \n",
      "11  0.124447             0.146469  0.080843      0.211739  0.057650  0.135859   \n",
      "12  0.182888             0.129802  0.176057      0.422023  0.223832  0.129393   \n",
      "13  0.192288             0.070453  0.193870      0.290268  0.203888  0.132615   \n",
      "14  0.141083             0.161537  0.133231      0.295864  0.082225  0.127913   \n",
      "15  0.173746             0.072556  0.134946      0.236949  0.221347  0.137670   \n",
      "16  0.204825             0.025646  0.154362      0.416353  0.359745  0.231793   \n",
      "17  0.265392             0.155661  0.118725      0.255332  0.125026  0.139526   \n",
      "18  0.192122             0.100229  0.334546      0.329683  0.205869  0.165527   \n",
      "19  0.114765             0.205068  0.099867      0.082586  0.127727  0.094128   \n",
      "20  0.134929             0.051084  0.326185      0.202966  0.198153  0.151791   \n",
      "21  0.286098             0.222281  0.257955      0.368295  0.122799  0.155693   \n",
      "22  0.112377             0.119536  0.206412      0.209632  0.075608  0.070534   \n",
      "23  0.219984             0.147025  0.272555      0.273976  0.181767  0.122889   \n",
      "24  0.274289             0.206587  0.198103      0.407019  0.132237  0.093742   \n",
      "25  0.156017             0.121370  0.142241      0.220778  0.007905  0.045657   \n",
      "26  0.241453             0.168864  0.147158      0.289177  0.126463 -0.001899   \n",
      "27  0.211990             0.130006  0.174126      0.322651  0.131588  0.149498   \n",
      "28  0.186773             0.140083  0.071354      0.249003  0.009771  0.027403   \n",
      "29  0.275228             0.064301  0.170836      0.221188  0.148134  0.107874   \n",
      "30  0.318606             0.205268  0.181931      0.305450  0.141058  0.153427   \n",
      "31  0.220590             0.119782  0.165704      0.335118  0.133391  0.158286   \n",
      "\n",
      "      school  medicine  university  research    jungle   kitchen      rain  \\\n",
      "0   0.137435  0.078706    0.179667  0.210353  0.096019  0.079928 -0.032098   \n",
      "1   0.101293  0.029253    0.127813  0.179963  0.122186  0.216176  0.028687   \n",
      "2   0.224175  0.033031    0.207098  0.295591  0.098308  0.149326  0.001501   \n",
      "3   0.117918  0.051173    0.127698  0.122953  0.115333  0.196732  0.147007   \n",
      "4   0.089300  0.059411    0.099732  0.193859  0.073819  0.191582  0.027871   \n",
      "5   0.120848  0.006852    0.091623  0.205251  0.149998  0.184015  0.144702   \n",
      "6   0.144036  0.051533    0.125933  0.234642  0.177287  0.149835  0.065012   \n",
      "7   0.140539  0.110252    0.163031  0.219281  0.167019  0.127809  0.042018   \n",
      "8   0.048168  0.029583    0.071156  0.183475  0.098308  0.103628  0.021126   \n",
      "9   0.068964  0.082747    0.094962  0.138642  0.107713  0.119535  0.084166   \n",
      "10  0.221286  0.026261    0.160092  0.168737  0.129740  0.240190  0.055511   \n",
      "11  0.052051 -0.033423    0.051497  0.124447  0.140889  0.054876  0.068750   \n",
      "12  0.101571  0.013076    0.058004  0.182888  0.132384  0.139424 -0.022932   \n",
      "13  0.088645  0.085059    0.097852  0.192288  0.180853  0.161908  0.106761   \n",
      "14  0.182275 -0.034053    0.071220  0.141083  0.134849  0.079494  0.042647   \n",
      "15  0.047078  0.078058    0.074159  0.173746  0.037524  0.166249  0.050005   \n",
      "16  0.160580  0.015326    0.160413  0.204825  0.124103  0.159591  0.126371   \n",
      "17  0.291554  0.002243    0.250743  0.265392  0.135716  0.174629  0.064877   \n",
      "18  0.081845  0.014441    0.052724  0.192122  0.171318  0.247498  0.003995   \n",
      "19  0.008208  0.001750    0.103130  0.114765  0.076859  0.149768  0.072204   \n",
      "20  0.128644 -0.013966    0.078152  0.134929  0.133864  0.122590  0.089778   \n",
      "21  0.109934  0.124734    0.175717  0.286098  0.128524  0.142945  0.143809   \n",
      "22  0.172132  0.009652    0.101281  0.112377  0.078510  0.186914 -0.065714   \n",
      "23  0.172401  0.051153    0.123730  0.219984  0.065817  0.238633  0.063737   \n",
      "24  0.291346  0.091422    0.328070  0.274289  0.134464  0.101557 -0.016461   \n",
      "25  0.247088  0.027541    0.231679  0.156017  0.021665  0.180831 -0.039552   \n",
      "26  0.220992  0.059655    0.205310  0.241453  0.117039  0.160559 -0.035897   \n",
      "27  0.280518  0.032608    0.221451  0.211990  0.147080  0.153263  0.018321   \n",
      "28  0.208630  0.305848    0.116015  0.186773  0.043586  0.146907 -0.014590   \n",
      "29  0.056478  0.063553    0.134930  0.275228  0.096755  0.164779  0.122346   \n",
      "30  0.239055  0.089110    0.326812  0.318606  0.137887  0.158348  0.056787   \n",
      "31  0.266289  0.034155    0.149695  0.220590  0.179243  0.160292  0.069607   \n",
      "\n",
      "    elephant     grass      cars       sun  children     chair  \n",
      "0   0.045019  0.077912  0.058511  0.176295  0.191011  0.178487  \n",
      "1  -0.053926  0.120053  0.066186  0.015838  0.119458  0.064021  \n",
      "2  -0.100802  0.093904  0.036722  0.101924  0.224086  0.066222  \n",
      "3  -0.068952  0.110990  0.050682  0.100040  0.101717  0.165082  \n",
      "4  -0.101422  0.038057  0.120059  0.018304  0.056245  0.138014  \n",
      "5  -0.032172  0.116556  0.086328  0.112346  0.169034  0.153367  \n",
      "6   0.043423  0.140637  0.061110  0.047900  0.121266  0.125583  \n",
      "7   0.006275  0.085728  0.045651  0.130502  0.209955  0.010359  \n",
      "8   0.016080  0.130113  0.004241  0.014966 -0.006712  0.110866  \n",
      "9  -0.004073  0.068596  0.010044 -0.009242 -0.000777  0.090253  \n",
      "10 -0.029732  0.013928  0.024561  0.003558  0.076911  0.137125  \n",
      "11  0.010172  0.083717  0.101698  0.092808  0.111049  0.016084  \n",
      "12 -0.090610  0.073824  0.004130  0.046546  0.093831  0.084524  \n",
      "13  0.132488  0.198900  0.079415  0.063098  0.119355  0.104117  \n",
      "14  0.113863  0.042241  0.045527  0.088078  0.175119  0.162628  \n",
      "15 -0.072110  0.033126  0.171245  0.001743  0.019952  0.139221  \n",
      "16 -0.082614  0.128895  0.053940  0.028755  0.104607  0.106964  \n",
      "17 -0.031524  0.069528  0.014301  0.060566  0.212313  0.045358  \n",
      "18 -0.029597  0.060277  0.104006 -0.038369  0.014731  0.041906  \n",
      "19 -0.063898  0.072075  0.033408  0.085071  0.088882  0.096771  \n",
      "20 -0.022298 -0.002069  0.051087  0.035287  0.150194  0.009553  \n",
      "21 -0.020720  0.039860  0.086543  0.118765  0.118299  0.026900  \n",
      "22 -0.045438  0.082132 -0.024847  0.090426  0.275233  0.138497  \n",
      "23 -0.107796  0.063736  0.086489  0.022159  0.208014  0.003597  \n",
      "24 -0.036948  0.092970 -0.009987 -0.006621  0.142083  0.029775  \n",
      "25 -0.053414  0.102282 -0.006496  0.047772  0.294408  0.057106  \n",
      "26 -0.079255  0.095329  0.058628  0.041232  0.162994  0.049033  \n",
      "27 -0.070375  0.088738  0.057774  0.021813  0.208474  0.056263  \n",
      "28 -0.015328  0.012989  0.051088 -0.082619  0.172478  0.011498  \n",
      "29 -0.063814  0.133200  0.007765  0.004336  0.033223  0.034945  \n",
      "30 -0.003625  0.075793  0.088008  0.052170  0.132833  0.113283  \n",
      "31 -0.060630  0.054355  0.063511  0.061503  0.207747  0.051135  \n"
     ]
    }
   ],
   "source": [
    "pool_sk_no = ['jungle', 'kitchen', 'rain', 'elephant', 'grass', 'cars', 'sun', 'children', 'chair']\n",
    "\n",
    "for i in pool_sk_no:\n",
    "    df[i]= pd.DataFrame(search_key_bi_encoder(df_text, i))\n",
    "print(df)\n",
    "\n",
    "\n",
    "\n"
   ]
  },
  {
   "cell_type": "code",
   "execution_count": null,
   "id": "64d2a0fd",
   "metadata": {},
   "outputs": [],
   "source": []
  }
 ],
 "metadata": {
  "kernelspec": {
   "display_name": "Python 3 (ipykernel)",
   "language": "python",
   "name": "python3"
  },
  "language_info": {
   "codemirror_mode": {
    "name": "ipython",
    "version": 3
   },
   "file_extension": ".py",
   "mimetype": "text/x-python",
   "name": "python",
   "nbconvert_exporter": "python",
   "pygments_lexer": "ipython3",
   "version": "3.9.7"
  }
 },
 "nbformat": 4,
 "nbformat_minor": 5
}
