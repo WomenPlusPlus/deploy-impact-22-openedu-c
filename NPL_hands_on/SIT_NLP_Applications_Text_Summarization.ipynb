{
 "cells": [
  {
   "cell_type": "markdown",
   "metadata": {
    "id": "Fxw1pk9h5ZIw"
   },
   "source": [
    "<center><a target=\"_blank\" href=\"https://www.womenplusplus.ch/deploy-impact/\"><img src=\"https://drive.google.com/uc?id=1eOWdijaay1bv94PlIRMqNt7eWmUfAI2u\" width=\"500\" style=\"background:none; border:none; box-shadow:none;\" /></a> </center>\n",
    "\n",
    "<center><a target=\"_blank\" href=\"https://learning.sit.org/\"><img src=\"https://drive.google.com/uc?id=1x9_jQgLhozCSWDSaOdVxKmxOEAe_OLgV\" width=\"250\" style=\"background:none; border:none; box-shadow:none;\" /></a> </center>\n",
    "\n",
    "_____\n",
    "\n",
    "<center> <h1> Live Coding - Summarization </h1> </center>\n",
    "\n",
    "<p style=\"margin-bottom:1cm;\"></p>\n",
    "\n",
    "_____\n",
    "\n",
    "<center>SIT Learning, 2022</center>\n"
   ]
  },
  {
   "cell_type": "markdown",
   "metadata": {
    "id": "5CQ2c3-7HIBK"
   },
   "source": [
    "# Document Summarization\n",
    "\n",
    "The idea of document summarization is a\n",
    "bit different from keyphrase extraction or topic modeling. In this case, the end result\n",
    "is still in the form of some document, but with a few sentences based on the length we\n",
    "might want the summary to be. This is similar to an abstract or an executive summary\n",
    "in a research paper. The main objective of automated document summarization is\n",
    "to perform this summarization without involving human input, except for running\n",
    "computer programs. Mathematical and statistical models help in building and\n",
    "automating the task of summarizing documents by observing their content and context.\n",
    "\n",
    "There are two broad approaches to document summarization using automated\n",
    "techniques. They are described as follows:\n",
    "- __Extraction-based techniques:__ These methods use mathematical\n",
    "and statistical concepts like SVD to extract some key subset of the\n",
    "content from the original document such that this subset of content\n",
    "contains the core information and acts as the focal point of the entire\n",
    "document. This content can be words, phrases, or even sentences.\n",
    "The end result from this approach is a short executive summary of a\n",
    "couple of lines extracted from the original document. No new content\n",
    "is generated in this technique, hence the name extraction-based.\n",
    "- __Abstraction-based techniques:__ These methods are more complex\n",
    "and sophisticated. They leverage language semantics to create\n",
    "representations and use natural language generation (NLG)\n",
    "techniques where the machine uses knowledge bases and semantic\n",
    "representations to generate text on its own and create summaries\n",
    "just like a human would write them. Thanks to deep learning, we can\n",
    "implement these techniques easily but they require a lot of data and\n",
    "compute.\n",
    "\n",
    "We will cover extraction based methods here due to constraints of needed a lot of data + compute for abstraction based methods. But you can leverage the seq2seq models you learnt in language translation on an appropriate dataset to build deep learning based abstractive summarizers"
   ]
  },
  {
   "cell_type": "markdown",
   "metadata": {
    "id": "PMpQzV7lHIBK"
   },
   "source": [
    "# Install necessary dependencies"
   ]
  },
  {
   "cell_type": "code",
   "execution_count": 1,
   "metadata": {
    "colab": {
     "base_uri": "https://localhost:8080/"
    },
    "executionInfo": {
     "elapsed": 1241,
     "status": "ok",
     "timestamp": 1666802736968,
     "user": {
      "displayName": "Ekaterina Butyugina",
      "userId": "10324182844490961884"
     },
     "user_tz": -120
    },
    "id": "7TKqj2jxDWjN",
    "outputId": "64001d3d-bb57-4b67-f3af-799b41b05c1f"
   },
   "outputs": [
    {
     "name": "stderr",
     "output_type": "stream",
     "text": [
      "[nltk_data] Downloading package punkt to /root/nltk_data...\n",
      "[nltk_data]   Unzipping tokenizers/punkt.zip.\n",
      "[nltk_data] Downloading package stopwords to /root/nltk_data...\n",
      "[nltk_data]   Unzipping corpora/stopwords.zip.\n"
     ]
    },
    {
     "data": {
      "text/plain": [
       "True"
      ]
     },
     "execution_count": 1,
     "metadata": {},
     "output_type": "execute_result"
    }
   ],
   "source": [
    "import nltk\n",
    "nltk.download('punkt')\n",
    "nltk.download('stopwords')"
   ]
  },
  {
   "cell_type": "markdown",
   "metadata": {
    "id": "Kqo1pul-HIBP"
   },
   "source": [
    "# Get Text Document\n",
    "\n",
    "We use the description of a very popular role-playing game (RPG) Skyrim from\n",
    "Bethesda Softworks for summarization. "
   ]
  },
  {
   "cell_type": "code",
   "execution_count": 2,
   "metadata": {
    "executionInfo": {
     "elapsed": 2,
     "status": "ok",
     "timestamp": 1666802864655,
     "user": {
      "displayName": "Ekaterina Butyugina",
      "userId": "10324182844490961884"
     },
     "user_tz": -120
    },
    "id": "4DTCay8msG9z"
   },
   "outputs": [],
   "source": [
    "DOCUMENT = \"\"\"\n",
    "The Elder Scrolls V: Skyrim is an action role-playing video game developed by Bethesda Game Studios \n",
    "and published by Bethesda Softworks. It is the fifth main installment in The Elder Scrolls series, \n",
    "following The Elder Scrolls IV: Oblivion.\n",
    "The game's main story revolves around the player character's quest to defeat Alduin the World-Eater, \n",
    "a dragon who is prophesied to destroy the world. The game is set 200 years after the events of Oblivion \n",
    "and takes place in the fictional province of Skyrim. Over the course of the game, the player completes \n",
    "quests and develops the character by improving skills. The game continues the open-world tradition of \n",
    "its predecessors by allowing the player to travel anywhere in the game world at any time, and to ignore \n",
    "or postpone the main storyline indefinitely.\n",
    "The team opted for a unique and more diverse open world than Oblivion's Imperial Province of Cyrodiil, \n",
    "which game director and executive producer Todd Howard considered less interesting by comparison. \n",
    "The game was released to critical acclaim, with reviewers particularly mentioning the character advancement \n",
    "and setting, and is considered to be one of the greatest video games of all time.\n",
    "\n",
    "\n",
    "The Elder Scrolls V: Skyrim is an action role-playing game, playable from either a first or \n",
    "third-person perspective. The player may freely roam over the land of Skyrim which is an open world \n",
    "environment consisting of wilderness expanses, dungeons, cities, towns, fortresses, and villages. \n",
    "Players may navigate the game world more quickly by riding horses or by utilizing a fast-travel system \n",
    "which allows them to warp to previously discovered locations. The game's main quest can be completed or \n",
    "ignored at the player's preference after the first stage of the quest is finished. However, some quests \n",
    "rely on the main storyline being at least partially completed. Non-player characters (NPCs) populate the \n",
    "world and can be interacted with in a number of ways: the player may engage them in conversation, \n",
    "marry an eligible NPC, kill them or engage in a nonlethal \"brawl\". The player may \n",
    "choose to join factions which are organized groups of NPCs — for example, the Dark Brotherhood, a band \n",
    "of assassins. Each of the factions has an associated quest path to progress through. Each city and town \n",
    "in the game world has jobs that the player can engage in, such as farming.\n",
    "\n",
    "Players have the option to develop their character. At the beginning of the game, players create \n",
    "their character by selecting their sex and choosing between one of several races including humans, \n",
    "orcs, elves, and anthropomorphic cat or lizard-like creatures and then customizing their character's \n",
    "appearance. Over the course of the game, players improve their character's skills which are numerical \n",
    "representations of their ability in certain areas. There are eighteen skills divided evenly among the \n",
    "three schools of combat, magic, and stealth. When players have trained skills enough to meet the \n",
    "required experience, their character levels up. Health is depleted primarily when the player \n",
    "takes damage and the loss of all health results in death. Magicka is depleted by the use of spells, \n",
    "certain poisons and by being struck by lightning-based attacks. Stamina determines the player's \n",
    "effectiveness in combat and is depleted by sprinting, performing heavy \"power attacks\" \n",
    "and being struck by frost-based attacks. Skyrim is the first entry in The Elder Scrolls to \n",
    "include dragons in the game's wilderness. Like other creatures, dragons are generated randomly in \n",
    "the world and will engage in combat with NPCs, creatures and the player. Some dragons may attack \n",
    "cities and towns when in their proximity. The player character can absorb the souls of dragons \n",
    "in order to use powerful spells called \"dragon shouts\" or \"Thu'um\". A regeneration \n",
    "period limits the player's use of shouts in gameplay.\n",
    "\n",
    "Skyrim is set around 200 years after the events of The Elder Scrolls IV: Oblivion, although it is \n",
    "not a direct sequel. The game takes place in Skyrim, a province of the Empire on the continent of \n",
    "Tamriel, amid a civil war between two factions: the Stormcloaks, led by Ulfric Stormcloak, and the \n",
    "Imperial Legion, led by General Tullius. The player character is a Dragonborn, a mortal born with \n",
    "the soul and power of a dragon. Alduin, a large black dragon who returns to the land after being \n",
    "lost in time, serves as the game's primary antagonist. Alduin is the first dragon created by Akatosh, \n",
    "one of the series' gods, and is prophesied to destroy and consume the world.\n",
    "\"\"\""
   ]
  },
  {
   "cell_type": "code",
   "execution_count": 3,
   "metadata": {
    "executionInfo": {
     "elapsed": 1,
     "status": "ok",
     "timestamp": 1666802870273,
     "user": {
      "displayName": "Ekaterina Butyugina",
      "userId": "10324182844490961884"
     },
     "user_tz": -120
    },
    "id": "-Sp4ZBphDBTy"
   },
   "outputs": [],
   "source": [
    "import re\n",
    "\n",
    "DOCUMENT = re.sub(r'\\n|\\r', ' ', DOCUMENT) # remove any extra newlines between sentences\n",
    "DOCUMENT = re.sub(r' +', ' ', DOCUMENT) # remove any extra spaces between words\n",
    "DOCUMENT = DOCUMENT.strip()"
   ]
  },
  {
   "cell_type": "markdown",
   "metadata": {
    "id": "guFZ9QjsHIBT"
   },
   "source": [
    "# Summarization with Gensim\n",
    "\n",
    "Let’s look at an implementation of document summarization by leveraging Gensim’s\n",
    "summarization module. It is pretty straightforward."
   ]
  },
  {
   "cell_type": "code",
   "execution_count": 4,
   "metadata": {
    "colab": {
     "base_uri": "https://localhost:8080/"
    },
    "executionInfo": {
     "elapsed": 1446,
     "status": "ok",
     "timestamp": 1666802874311,
     "user": {
      "displayName": "Ekaterina Butyugina",
      "userId": "10324182844490961884"
     },
     "user_tz": -120
    },
    "id": "fJfaklbaDGm3",
    "outputId": "9be4c769-3d95-4efd-f871-e4523afa8660"
   },
   "outputs": [
    {
     "name": "stdout",
     "output_type": "stream",
     "text": [
      "The game's main story revolves around the player character's quest to defeat Alduin the World-Eater, a dragon who is prophesied to destroy the world.\n",
      "Over the course of the game, the player completes quests and develops the character by improving skills.\n",
      "The game continues the open-world tradition of its predecessors by allowing the player to travel anywhere in the game world at any time, and to ignore or postpone the main storyline indefinitely.\n",
      "The player may freely roam over the land of Skyrim which is an open world environment consisting of wilderness expanses, dungeons, cities, towns, fortresses, and villages.\n",
      "Each city and town in the game world has jobs that the player can engage in, such as farming.\n",
      "Over the course of the game, players improve their character's skills which are numerical representations of their ability in certain areas.\n",
      "Like other creatures, dragons are generated randomly in the world and will engage in combat with NPCs, creatures and the player.\n"
     ]
    }
   ],
   "source": [
    "from gensim.summarization import summarize\n",
    "\n",
    "print(summarize(DOCUMENT, ratio=0.2, split=False))"
   ]
  },
  {
   "cell_type": "code",
   "execution_count": 5,
   "metadata": {
    "colab": {
     "base_uri": "https://localhost:8080/"
    },
    "executionInfo": {
     "elapsed": 2,
     "status": "ok",
     "timestamp": 1666802876018,
     "user": {
      "displayName": "Ekaterina Butyugina",
      "userId": "10324182844490961884"
     },
     "user_tz": -120
    },
    "id": "7H83_YvADI2j",
    "outputId": "55985a31-73fb-4480-8d80-3fd5c6ee29f6"
   },
   "outputs": [
    {
     "name": "stdout",
     "output_type": "stream",
     "text": [
      "The game's main story revolves around the player character's quest to defeat Alduin the World-Eater, a dragon who is prophesied to destroy the world.\n",
      "Over the course of the game, the player completes quests and develops the character by improving skills.\n",
      "The player may freely roam over the land of Skyrim which is an open world environment consisting of wilderness expanses, dungeons, cities, towns, fortresses, and villages.\n"
     ]
    }
   ],
   "source": [
    "print(summarize(DOCUMENT, word_count=75, split=False))"
   ]
  }
 ],
 "metadata": {
  "accelerator": "GPU",
  "colab": {
   "collapsed_sections": [],
   "machine_shape": "hm",
   "provenance": []
  },
  "kernelspec": {
   "display_name": "Python 3 (ipykernel)",
   "language": "python",
   "name": "python3"
  },
  "language_info": {
   "codemirror_mode": {
    "name": "ipython",
    "version": 3
   },
   "file_extension": ".py",
   "mimetype": "text/x-python",
   "name": "python",
   "nbconvert_exporter": "python",
   "pygments_lexer": "ipython3",
   "version": "3.9.7"
  }
 },
 "nbformat": 4,
 "nbformat_minor": 1
}
